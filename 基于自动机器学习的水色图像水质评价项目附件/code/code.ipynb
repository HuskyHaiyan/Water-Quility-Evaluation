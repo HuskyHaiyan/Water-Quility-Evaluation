{
 "cells": [
  {
   "cell_type": "markdown",
   "metadata": {},
   "source": [
    "## 一、导入相关库"
   ]
  },
  {
   "cell_type": "code",
   "execution_count": 73,
   "metadata": {},
   "outputs": [],
   "source": [
    "import pandas as pd\n",
    "import numpy as np\n",
    "import matplotlib.pyplot as plt\n",
    "plt.rcParams['font.sans-serif']=\"SimHei\"\n",
    "from PIL import Image\n",
    "import itertools\n",
    "import os\n",
    "from sklearn.tree import DecisionTreeClassifier#决策树\n",
    "from sklearn.neighbors import KNeighborsClassifier#knn\n",
    "from sklearn.neural_network import MLPClassifier #神经网络\n",
    "from sklearn.naive_bayes import GaussianNB #朴素贝叶斯\n",
    "from sklearn.svm import SVC#支持向量机\n",
    "from sklearn.model_selection import GridSearchCV\n",
    "\n",
    "from sklearn.metrics import confusion_matrix\n",
    "from sklearn.metrics import classification_report\n",
    "from sklearn.metrics import accuracy_score, mean_squared_error, r2_score, confusion_matrix\n",
    "from sklearn.metrics import roc_curve, auc  #\n",
    "# 绘制混淆矩阵函数\n",
    "from sklearn.model_selection import train_test_split\n",
    "from sklearn.metrics import classification_report,confusion_matrix\n",
    "#忽略警告\n",
    "import warnings\n",
    "warnings.filterwarnings('ignore')"
   ]
  },
  {
   "cell_type": "markdown",
   "metadata": {},
   "source": [
    "## 二、数据预处理"
   ]
  },
  {
   "cell_type": "markdown",
   "metadata": {},
   "source": [
    "* 设置三阶矩阵计算方法"
   ]
  },
  {
   "cell_type": "code",
   "execution_count": 74,
   "metadata": {},
   "outputs": [],
   "source": [
    "def martix3(rd):\n",
    "    temp=(np.mean(rd-rd.mean())**3)\n",
    "    return np.sign(temp)*abs(temp)**(1/3)"
   ]
  },
  {
   "cell_type": "markdown",
   "metadata": {},
   "source": [
    "* 切分图片、计算颜色矩(r、g、b分别对应的三阶矩)"
   ]
  },
  {
   "cell_type": "code",
   "execution_count": 78,
   "metadata": {},
   "outputs": [],
   "source": [
    "path='images/'\n",
    "images=os.listdir(path)\n",
    "def transform(images):\n",
    "    Level=[]#水质类别\n",
    "    No=[]#每类对应序号\n",
    "    R1=[]#R通道一阶矩\n",
    "    R2=[]#R通道二阶矩\n",
    "    R3=[]#R通道三阶矩\n",
    "    G1=[]#G通道一阶矩\n",
    "    G2=[]#G通道二阶矩\n",
    "    G3=[]#G通道三阶矩\n",
    "    B1=[]#B通道一阶矩\n",
    "    B2=[]#B通道二阶矩\n",
    "    B3=[]#B通道三阶矩\n",
    "    for image in images:\n",
    "        level=image.split('_')[0]#获取水质类别名称\n",
    "        no=image.split('_')[1].split('.')[0]#获取每种类别的序号\n",
    "        Level.append(level)\n",
    "    #     No.append(no)\n",
    "\n",
    "        #预处理图片\n",
    "        img=Image.open(path+image)\n",
    "        M,N=img.size\n",
    "        region=img.crop((M/2-50,N/2-50,M/2+50,N/2+50))#截取中间图像\n",
    "        r,g,b=region.split()#获取r,g,b通道\n",
    "        #求一阶矩\n",
    "        R1.append(np.array(r).mean())\n",
    "        G1.append(np.array(g).mean())    \n",
    "        B1.append(np.array(b).mean())\n",
    "        #求二阶矩\n",
    "        R2.append(np.array(r).std())\n",
    "        G2.append(np.array(g).std())    \n",
    "        B2.append(np.array(b).std())\n",
    "        #求三阶矩\n",
    "        R3.append(martix3(np.array(r)))\n",
    "        G3.append(martix3(np.array(g)))\n",
    "        B3.append(martix3(np.array(b)))\n",
    "    data=pd.DataFrame({\n",
    "        \"水质类别\":Level,\n",
    "    #     \"序号\":No,\n",
    "        \"R通道一阶矩\":R1,\n",
    "        \"G通道一阶矩\":G1,\n",
    "        \"B通道一阶矩\":B1,\n",
    "        \"R通道二阶矩\":R2,\n",
    "        \"G通道二阶矩\":G2,\n",
    "        \"B通道二阶矩\":B2,\n",
    "        \"R通道三阶矩\":R3,\n",
    "        \"G通道三阶矩\":G3,\n",
    "        \"B通道三阶矩\":B3\n",
    "    })\n",
    "    return data\n",
    "\n"
   ]
  },
  {
   "cell_type": "markdown",
   "metadata": {},
   "source": [
    "#### 生成特征数据集，将数据与数据标签保存到本地"
   ]
  },
  {
   "cell_type": "code",
   "execution_count": 91,
   "metadata": {},
   "outputs": [
    {
     "data": {
      "text/html": [
       "<div>\n",
       "<style scoped>\n",
       "    .dataframe tbody tr th:only-of-type {\n",
       "        vertical-align: middle;\n",
       "    }\n",
       "\n",
       "    .dataframe tbody tr th {\n",
       "        vertical-align: top;\n",
       "    }\n",
       "\n",
       "    .dataframe thead th {\n",
       "        text-align: right;\n",
       "    }\n",
       "</style>\n",
       "<table border=\"1\" class=\"dataframe\">\n",
       "  <thead>\n",
       "    <tr style=\"text-align: right;\">\n",
       "      <th></th>\n",
       "      <th>水质类别</th>\n",
       "      <th>R通道一阶矩</th>\n",
       "      <th>G通道一阶矩</th>\n",
       "      <th>B通道一阶矩</th>\n",
       "      <th>R通道二阶矩</th>\n",
       "      <th>G通道二阶矩</th>\n",
       "      <th>B通道二阶矩</th>\n",
       "      <th>R通道三阶矩</th>\n",
       "      <th>G通道三阶矩</th>\n",
       "      <th>B通道三阶矩</th>\n",
       "    </tr>\n",
       "  </thead>\n",
       "  <tbody>\n",
       "    <tr>\n",
       "      <td>0</td>\n",
       "      <td>1</td>\n",
       "      <td>148.6037</td>\n",
       "      <td>138.6396</td>\n",
       "      <td>64.3687</td>\n",
       "      <td>3.633077</td>\n",
       "      <td>4.128330</td>\n",
       "      <td>10.499046</td>\n",
       "      <td>-3.456080e-15</td>\n",
       "      <td>-1.455192e-15</td>\n",
       "      <td>-2.910383e-15</td>\n",
       "    </tr>\n",
       "    <tr>\n",
       "      <td>1</td>\n",
       "      <td>1</td>\n",
       "      <td>163.6769</td>\n",
       "      <td>145.5470</td>\n",
       "      <td>54.4608</td>\n",
       "      <td>3.934350</td>\n",
       "      <td>2.840174</td>\n",
       "      <td>3.502551</td>\n",
       "      <td>1.082299e-14</td>\n",
       "      <td>2.955858e-15</td>\n",
       "      <td>1.000444e-15</td>\n",
       "    </tr>\n",
       "    <tr>\n",
       "      <td>2</td>\n",
       "      <td>1</td>\n",
       "      <td>153.9430</td>\n",
       "      <td>147.0834</td>\n",
       "      <td>71.9601</td>\n",
       "      <td>2.225657</td>\n",
       "      <td>1.810979</td>\n",
       "      <td>3.136608</td>\n",
       "      <td>-1.205080e-14</td>\n",
       "      <td>-1.168701e-14</td>\n",
       "      <td>2.933120e-15</td>\n",
       "    </tr>\n",
       "    <tr>\n",
       "      <td>3</td>\n",
       "      <td>1</td>\n",
       "      <td>150.3724</td>\n",
       "      <td>151.3982</td>\n",
       "      <td>64.3164</td>\n",
       "      <td>2.037380</td>\n",
       "      <td>1.521590</td>\n",
       "      <td>2.728093</td>\n",
       "      <td>1.045919e-15</td>\n",
       "      <td>-2.773959e-15</td>\n",
       "      <td>-1.568878e-15</td>\n",
       "    </tr>\n",
       "    <tr>\n",
       "      <td>4</td>\n",
       "      <td>1</td>\n",
       "      <td>150.7381</td>\n",
       "      <td>150.9774</td>\n",
       "      <td>64.6204</td>\n",
       "      <td>1.918674</td>\n",
       "      <td>1.665260</td>\n",
       "      <td>3.110901</td>\n",
       "      <td>-2.864908e-15</td>\n",
       "      <td>1.127773e-14</td>\n",
       "      <td>-3.615241e-15</td>\n",
       "    </tr>\n",
       "    <tr>\n",
       "      <td>...</td>\n",
       "      <td>...</td>\n",
       "      <td>...</td>\n",
       "      <td>...</td>\n",
       "      <td>...</td>\n",
       "      <td>...</td>\n",
       "      <td>...</td>\n",
       "      <td>...</td>\n",
       "      <td>...</td>\n",
       "      <td>...</td>\n",
       "      <td>...</td>\n",
       "    </tr>\n",
       "    <tr>\n",
       "      <td>198</td>\n",
       "      <td>5</td>\n",
       "      <td>75.9841</td>\n",
       "      <td>109.0093</td>\n",
       "      <td>24.9639</td>\n",
       "      <td>3.773784</td>\n",
       "      <td>3.148303</td>\n",
       "      <td>2.140373</td>\n",
       "      <td>2.000888e-15</td>\n",
       "      <td>3.910827e-15</td>\n",
       "      <td>1.136868e-15</td>\n",
       "    </tr>\n",
       "    <tr>\n",
       "      <td>199</td>\n",
       "      <td>5</td>\n",
       "      <td>104.3394</td>\n",
       "      <td>124.2105</td>\n",
       "      <td>45.4477</td>\n",
       "      <td>3.224811</td>\n",
       "      <td>2.480522</td>\n",
       "      <td>3.734363</td>\n",
       "      <td>2.273737e-15</td>\n",
       "      <td>3.865352e-15</td>\n",
       "      <td>2.455636e-15</td>\n",
       "    </tr>\n",
       "    <tr>\n",
       "      <td>200</td>\n",
       "      <td>5</td>\n",
       "      <td>112.5145</td>\n",
       "      <td>131.3936</td>\n",
       "      <td>49.8200</td>\n",
       "      <td>3.140985</td>\n",
       "      <td>2.184051</td>\n",
       "      <td>4.043093</td>\n",
       "      <td>1.818989e-15</td>\n",
       "      <td>7.821654e-15</td>\n",
       "      <td>-2.728484e-16</td>\n",
       "    </tr>\n",
       "    <tr>\n",
       "      <td>201</td>\n",
       "      <td>5</td>\n",
       "      <td>113.1293</td>\n",
       "      <td>134.1274</td>\n",
       "      <td>48.3622</td>\n",
       "      <td>3.368202</td>\n",
       "      <td>2.537039</td>\n",
       "      <td>4.021146</td>\n",
       "      <td>-6.366463e-16</td>\n",
       "      <td>5.593392e-15</td>\n",
       "      <td>-1.455192e-15</td>\n",
       "    </tr>\n",
       "    <tr>\n",
       "      <td>202</td>\n",
       "      <td>5</td>\n",
       "      <td>148.8780</td>\n",
       "      <td>148.1481</td>\n",
       "      <td>89.4130</td>\n",
       "      <td>3.288148</td>\n",
       "      <td>3.038843</td>\n",
       "      <td>4.511433</td>\n",
       "      <td>1.409717e-14</td>\n",
       "      <td>5.456968e-16</td>\n",
       "      <td>3.274181e-15</td>\n",
       "    </tr>\n",
       "  </tbody>\n",
       "</table>\n",
       "<p>203 rows × 10 columns</p>\n",
       "</div>"
      ],
      "text/plain": [
       "    水质类别    R通道一阶矩    G通道一阶矩   B通道一阶矩    R通道二阶矩    G通道二阶矩     B通道二阶矩  \\\n",
       "0      1  148.6037  138.6396  64.3687  3.633077  4.128330  10.499046   \n",
       "1      1  163.6769  145.5470  54.4608  3.934350  2.840174   3.502551   \n",
       "2      1  153.9430  147.0834  71.9601  2.225657  1.810979   3.136608   \n",
       "3      1  150.3724  151.3982  64.3164  2.037380  1.521590   2.728093   \n",
       "4      1  150.7381  150.9774  64.6204  1.918674  1.665260   3.110901   \n",
       "..   ...       ...       ...      ...       ...       ...        ...   \n",
       "198    5   75.9841  109.0093  24.9639  3.773784  3.148303   2.140373   \n",
       "199    5  104.3394  124.2105  45.4477  3.224811  2.480522   3.734363   \n",
       "200    5  112.5145  131.3936  49.8200  3.140985  2.184051   4.043093   \n",
       "201    5  113.1293  134.1274  48.3622  3.368202  2.537039   4.021146   \n",
       "202    5  148.8780  148.1481  89.4130  3.288148  3.038843   4.511433   \n",
       "\n",
       "           R通道三阶矩        G通道三阶矩        B通道三阶矩  \n",
       "0   -3.456080e-15 -1.455192e-15 -2.910383e-15  \n",
       "1    1.082299e-14  2.955858e-15  1.000444e-15  \n",
       "2   -1.205080e-14 -1.168701e-14  2.933120e-15  \n",
       "3    1.045919e-15 -2.773959e-15 -1.568878e-15  \n",
       "4   -2.864908e-15  1.127773e-14 -3.615241e-15  \n",
       "..            ...           ...           ...  \n",
       "198  2.000888e-15  3.910827e-15  1.136868e-15  \n",
       "199  2.273737e-15  3.865352e-15  2.455636e-15  \n",
       "200  1.818989e-15  7.821654e-15 -2.728484e-16  \n",
       "201 -6.366463e-16  5.593392e-15 -1.455192e-15  \n",
       "202  1.409717e-14  5.456968e-16  3.274181e-15  \n",
       "\n",
       "[203 rows x 10 columns]"
      ]
     },
     "execution_count": 91,
     "metadata": {},
     "output_type": "execute_result"
    }
   ],
   "source": [
    "data=transform(images)\n",
    "data"
   ]
  },
  {
   "cell_type": "code",
   "execution_count": 90,
   "metadata": {},
   "outputs": [],
   "source": [
    "label=data['水质类别']\n",
    "data=data[data.columns[1:]]\n",
    "label.to_json(\"label.json\")\n",
    "data.to_json(\"data.json\")"
   ]
  },
  {
   "cell_type": "markdown",
   "metadata": {},
   "source": [
    "## 三、定义模型评估方法"
   ]
  },
  {
   "cell_type": "code",
   "execution_count": 80,
   "metadata": {},
   "outputs": [],
   "source": [
    "# 绘制混淆矩阵函数\n",
    "def plot_confusion_matrix(cm, classes,\n",
    "                          normalize=False,\n",
    "                          title='Confusion matrix',\n",
    "                          cmap=plt.cm.Blues):\n",
    "    plt.figure()\n",
    "    plt.imshow(cm, interpolation='nearest', cmap=cmap)\n",
    "    plt.title(title)\n",
    "    plt.colorbar()\n",
    "    tick_marks = np.arange(len(classes))\n",
    "    plt.xticks(tick_marks, classes, rotation=45)\n",
    "    plt.yticks(tick_marks, classes)\n",
    "\n",
    "    fmt = '.2f' if normalize else 'd'\n",
    "    thresh = cm.max() / 2.\n",
    "    for i, j in itertools.product(range(cm.shape[0]), range(cm.shape[1])):\n",
    "        plt.text(j, i, format(cm[i, j], fmt),\n",
    "                 horizontalalignment=\"center\",\n",
    "                 color=\"white\" if cm[i, j] > thresh else \"black\")\n",
    "\n",
    "    plt.tight_layout()\n",
    "    plt.ylabel('True label')\n",
    "    plt.xlabel('Predicted label')\n",
    "    plt.show()\n",
    "    \n",
    "# 模型性能评估\n",
    "def model_performance_evaluation(model_name, test, pred):\n",
    "    print(model_name,  '| 准确率: %.4f' % accuracy_score(test, pred))\n",
    "    pred=pred.astype('float64')\n",
    "    print(model_name,'| 均方误差: %.4f' % mean_squared_error(test, pred))\n",
    "    print(model_name, '| R2-score: %.4f' % r2_score(test, pred))\n"
   ]
  },
  {
   "cell_type": "markdown",
   "metadata": {},
   "source": [
    "## 四、模型训练+评估\n",
    "   * 决策树、knn、朴素贝叶斯、支持向量机、神经网络"
   ]
  },
  {
   "cell_type": "code",
   "execution_count": 81,
   "metadata": {},
   "outputs": [],
   "source": [
    "\n",
    "\n",
    "def train_model(label,data,model_name):\n",
    "    '''\n",
    "    data:训练数据\n",
    "    model_name:模型名称\n",
    "    model:sklearn模型\n",
    "    '''\n",
    "    y=label\n",
    "    X=data\n",
    "    #划分数据集\n",
    "    X_train,X_test,y_train,y_test=train_test_split(X,y,test_size=0.2,random_state=0)\n",
    "    param={}\n",
    "    \n",
    "    #搜索最优参数\n",
    "    if model_name=='决策树':\n",
    "        param = {'criterion':['gini','entropy'],\n",
    "                 'max_depth':[i for i in range (1,50)],\n",
    "                 'min_samples_leaf':[2,3,5,10],\n",
    "                 'min_impurity_decrease':[0.1,0.2,0.5]\n",
    "                }\n",
    "        grid = GridSearchCV(DecisionTreeClassifier(),param_grid=param,cv=6)\n",
    "    \n",
    "    if model_name=='k近邻':\n",
    "        param={'weights':['uniform','distance'],\n",
    "               'n_neighbors':[i for i in range(1,11)],\n",
    "               'p':[i for i in range(1,6)]\n",
    "              }\n",
    "        grid = GridSearchCV(KNeighborsClassifier(),param_grid=param,cv=6)\n",
    "    \n",
    "    if model_name=='朴素贝叶斯':\n",
    "        grid=GaussianNB()\n",
    "        \n",
    "    if model_name=='支持向量机':\n",
    "        param={\n",
    "            'cache_size' : [100, 200, 400],\n",
    "            'C': [1, 10, 100],\n",
    "            'kernel' : ['rbf', 'linear'],\n",
    "            'degree' : [1, 2, 3, 4],\n",
    "            }\n",
    "        grid=GridSearchCV(SVC(),param_grid=param,cv=6)\n",
    "        \n",
    "    if model_name=='神经网络':\n",
    "        param={\n",
    "            'activation':['identity', 'logistic', 'tanh', 'relu'],\n",
    "            'alpha':[10.0 ** ~ np.arange(1,7).any()],\n",
    "            'hidden_layer_sizes': [(100,),(50,)],\n",
    "            'max_iter': [1000,500,200,100]\n",
    "        }\n",
    "        grid=GridSearchCV(MLPClassifier(),param_grid=param,cv=6)\n",
    "        \n",
    "    #模型训练\n",
    "    clf=grid\n",
    "    model=clf.fit(X_train,y_train)\n",
    "    #模型评估\n",
    "    y_pred=model.predict(X_test)\n",
    "    \n",
    "    print(model_name+\"在训练集上的性能 -- \")\n",
    "    model_performance_evaluation(model_name, y_train, clf.predict(X_train))\n",
    "    print(\"=========================================\")\n",
    "    print(model_name+\"在测试集上的性能 -- \")\n",
    "    model_performance_evaluation(model_name, y_test, y_pred)\n",
    "    \n",
    "    # 绘制混淆矩阵\n",
    "    cnf_matrix = confusion_matrix(y_test, y_pred)\n",
    "    np.set_printoptions(precision=2)  # 设置打印数量的阈值\n",
    "    class_names = [1,2,3,4,5]\n",
    "    plot_confusion_matrix(cnf_matrix, classes=class_names, title='Confusion matrix')\n"
   ]
  },
  {
   "cell_type": "code",
   "execution_count": 82,
   "metadata": {},
   "outputs": [
    {
     "name": "stdout",
     "output_type": "stream",
     "text": [
      "决策树在训练集上的性能 -- \n",
      "决策树 | 准确率: 0.9012\n",
      "决策树 | 均方误差: 0.1914\n",
      "决策树 | R2-score: 0.8389\n",
      "=========================================\n",
      "决策树在测试集上的性能 -- \n",
      "决策树 | 准确率: 0.9268\n",
      "决策树 | 均方误差: 0.5122\n",
      "决策树 | R2-score: 0.5141\n"
     ]
    },
    {
     "data": {
      "image/png": "[encoded data removed]",
      "text/plain": [
       "<Figure size 432x288 with 2 Axes>"
      ]
     },
     "metadata": {
      "needs_background": "light"
     },
     "output_type": "display_data"
    }
   ],
   "source": [
    "train_model(label,data,\"决策树\")"
   ]
  },
  {
   "cell_type": "code",
   "execution_count": 83,
   "metadata": {},
   "outputs": [
    {
     "name": "stdout",
     "output_type": "stream",
     "text": [
      "k近邻在训练集上的性能 -- \n",
      "k近邻 | 准确率: 1.0000\n",
      "k近邻 | 均方误差: 0.0000\n",
      "k近邻 | R2-score: 1.0000\n",
      "=========================================\n",
      "k近邻在测试集上的性能 -- \n",
      "k近邻 | 准确率: 0.9512\n",
      "k近邻 | 均方误差: 0.2439\n",
      "k近邻 | R2-score: 0.7686\n"
     ]
    },
    {
     "data": {
      "image/png": "[encoded data removed]",
      "text/plain": [
       "<Figure size 432x288 with 2 Axes>"
      ]
     },
     "metadata": {
      "needs_background": "light"
     },
     "output_type": "display_data"
    }
   ],
   "source": [
    "train_model(label,data,\"k近邻\")"
   ]
  },
  {
   "cell_type": "code",
   "execution_count": 84,
   "metadata": {},
   "outputs": [
    {
     "name": "stdout",
     "output_type": "stream",
     "text": [
      "朴素贝叶斯在训练集上的性能 -- \n",
      "朴素贝叶斯 | 准确率: 0.8395\n",
      "朴素贝叶斯 | 均方误差: 0.2531\n",
      "朴素贝叶斯 | R2-score: 0.7870\n",
      "=========================================\n",
      "朴素贝叶斯在测试集上的性能 -- \n",
      "朴素贝叶斯 | 准确率: 0.8049\n",
      "朴素贝叶斯 | 均方误差: 0.3902\n",
      "朴素贝叶斯 | R2-score: 0.6298\n"
     ]
    },
    {
     "data": {
      "image/png": "[encoded data removed]",
      "text/plain": [
       "<Figure size 432x288 with 2 Axes>"
      ]
     },
     "metadata": {
      "needs_background": "light"
     },
     "output_type": "display_data"
    }
   ],
   "source": [
    "train_model(label,data,\"朴素贝叶斯\")"
   ]
  },
  {
   "cell_type": "code",
   "execution_count": 85,
   "metadata": {},
   "outputs": [
    {
     "name": "stdout",
     "output_type": "stream",
     "text": [
      "支持向量机在训练集上的性能 -- \n",
      "支持向量机 | 准确率: 1.0000\n",
      "支持向量机 | 均方误差: 0.0000\n",
      "支持向量机 | R2-score: 1.0000\n",
      "=========================================\n",
      "支持向量机在测试集上的性能 -- \n",
      "支持向量机 | 准确率: 0.9756\n",
      "支持向量机 | 均方误差: 0.2195\n",
      "支持向量机 | R2-score: 0.7918\n"
     ]
    },
    {
     "data": {
      "image/png": "[encoded data removed]",
      "text/plain": [
       "<Figure size 432x288 with 2 Axes>"
      ]
     },
     "metadata": {
      "needs_background": "light"
     },
     "output_type": "display_data"
    }
   ],
   "source": [
    "train_model(label,data,\"支持向量机\")"
   ]
  },
  {
   "cell_type": "code",
   "execution_count": 86,
   "metadata": {},
   "outputs": [
    {
     "name": "stdout",
     "output_type": "stream",
     "text": [
      "神经网络在训练集上的性能 -- \n",
      "神经网络 | 准确率: 0.8580\n",
      "神经网络 | 均方误差: 0.4198\n",
      "神经网络 | R2-score: 0.6467\n",
      "=========================================\n",
      "神经网络在测试集上的性能 -- \n",
      "神经网络 | 准确率: 0.8049\n",
      "神经网络 | 均方误差: 0.6829\n",
      "神经网络 | R2-score: 0.3521\n"
     ]
    },
    {
     "data": {
      "image/png": "[encoded data removed]",
      "text/plain": [
       "<Figure size 432x288 with 2 Axes>"
      ]
     },
     "metadata": {
      "needs_background": "light"
     },
     "output_type": "display_data"
    }
   ],
   "source": [
    "train_model(label,data,\"神经网络\")"
   ]
  }
 ],
 "metadata": {
  "kernelspec": {
   "display_name": "Python 3",
   "language": "python",
   "name": "python3"
  },
  "language_info": {
   "codemirror_mode": {
    "name": "ipython",
    "version": 3
   },
   "file_extension": ".py",
   "mimetype": "text/x-python",
   "name": "python",
   "nbconvert_exporter": "python",
   "pygments_lexer": "ipython3",
   "version": "3.7.1"
  }
 },
 "nbformat": 4,
 "nbformat_minor": 2
}
